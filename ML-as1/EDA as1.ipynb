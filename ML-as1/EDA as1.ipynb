{
 "cells": [
  {
   "cell_type": "code",
   "execution_count": 1,
   "metadata": {},
   "outputs": [],
   "source": [
    "import pandas as pd"
   ]
  },
  {
   "cell_type": "code",
   "execution_count": 4,
   "metadata": {},
   "outputs": [],
   "source": [
    "wd=pd.read_csv(\"weather.csv\").convert_dtypes()"
   ]
  },
  {
   "cell_type": "code",
   "execution_count": 5,
   "metadata": {},
   "outputs": [
    {
     "data": {
      "text/html": [
       "<div>\n",
       "<style scoped>\n",
       "    .dataframe tbody tr th:only-of-type {\n",
       "        vertical-align: middle;\n",
       "    }\n",
       "\n",
       "    .dataframe tbody tr th {\n",
       "        vertical-align: top;\n",
       "    }\n",
       "\n",
       "    .dataframe thead th {\n",
       "        text-align: right;\n",
       "    }\n",
       "</style>\n",
       "<table border=\"1\" class=\"dataframe\">\n",
       "  <thead>\n",
       "    <tr style=\"text-align: right;\">\n",
       "      <th></th>\n",
       "      <th>Data.Precipitation</th>\n",
       "      <th>Date.Full</th>\n",
       "      <th>Date.Month</th>\n",
       "      <th>Date.Week of</th>\n",
       "      <th>Date.Year</th>\n",
       "      <th>Station.City</th>\n",
       "      <th>Station.Code</th>\n",
       "      <th>Station.Location</th>\n",
       "      <th>Station.State</th>\n",
       "      <th>Data.Temperature.Avg Temp</th>\n",
       "      <th>Data.Temperature.Max Temp</th>\n",
       "      <th>Data.Temperature.Min Temp</th>\n",
       "      <th>Data.Wind.Direction</th>\n",
       "      <th>Data.Wind.Speed</th>\n",
       "    </tr>\n",
       "  </thead>\n",
       "  <tbody>\n",
       "    <tr>\n",
       "      <th>0</th>\n",
       "      <td>0.0</td>\n",
       "      <td>2016-01-03</td>\n",
       "      <td>1</td>\n",
       "      <td>3</td>\n",
       "      <td>2016</td>\n",
       "      <td>Birmingham</td>\n",
       "      <td>BHM</td>\n",
       "      <td>Birmingham, AL</td>\n",
       "      <td>Alabama</td>\n",
       "      <td>39</td>\n",
       "      <td>46</td>\n",
       "      <td>32</td>\n",
       "      <td>33</td>\n",
       "      <td>4.33</td>\n",
       "    </tr>\n",
       "    <tr>\n",
       "      <th>1</th>\n",
       "      <td>0.0</td>\n",
       "      <td>2016-01-03</td>\n",
       "      <td>1</td>\n",
       "      <td>3</td>\n",
       "      <td>2016</td>\n",
       "      <td>Huntsville</td>\n",
       "      <td>HSV</td>\n",
       "      <td>Huntsville, AL</td>\n",
       "      <td>Alabama</td>\n",
       "      <td>39</td>\n",
       "      <td>47</td>\n",
       "      <td>31</td>\n",
       "      <td>32</td>\n",
       "      <td>3.86</td>\n",
       "    </tr>\n",
       "    <tr>\n",
       "      <th>2</th>\n",
       "      <td>0.16</td>\n",
       "      <td>2016-01-03</td>\n",
       "      <td>1</td>\n",
       "      <td>3</td>\n",
       "      <td>2016</td>\n",
       "      <td>Mobile</td>\n",
       "      <td>MOB</td>\n",
       "      <td>Mobile, AL</td>\n",
       "      <td>Alabama</td>\n",
       "      <td>46</td>\n",
       "      <td>51</td>\n",
       "      <td>41</td>\n",
       "      <td>35</td>\n",
       "      <td>9.73</td>\n",
       "    </tr>\n",
       "    <tr>\n",
       "      <th>3</th>\n",
       "      <td>0.0</td>\n",
       "      <td>2016-01-03</td>\n",
       "      <td>1</td>\n",
       "      <td>3</td>\n",
       "      <td>2016</td>\n",
       "      <td>Montgomery</td>\n",
       "      <td>MGM</td>\n",
       "      <td>Montgomery, AL</td>\n",
       "      <td>Alabama</td>\n",
       "      <td>45</td>\n",
       "      <td>52</td>\n",
       "      <td>38</td>\n",
       "      <td>32</td>\n",
       "      <td>6.86</td>\n",
       "    </tr>\n",
       "    <tr>\n",
       "      <th>4</th>\n",
       "      <td>0.01</td>\n",
       "      <td>2016-01-03</td>\n",
       "      <td>1</td>\n",
       "      <td>3</td>\n",
       "      <td>2016</td>\n",
       "      <td>Anchorage</td>\n",
       "      <td>ANC</td>\n",
       "      <td>Anchorage, AK</td>\n",
       "      <td>Alaska</td>\n",
       "      <td>34</td>\n",
       "      <td>38</td>\n",
       "      <td>29</td>\n",
       "      <td>19</td>\n",
       "      <td>7.8</td>\n",
       "    </tr>\n",
       "  </tbody>\n",
       "</table>\n",
       "</div>"
      ],
      "text/plain": [
       "   Data.Precipitation   Date.Full  Date.Month  Date.Week of  Date.Year  \\\n",
       "0                 0.0  2016-01-03           1             3       2016   \n",
       "1                 0.0  2016-01-03           1             3       2016   \n",
       "2                0.16  2016-01-03           1             3       2016   \n",
       "3                 0.0  2016-01-03           1             3       2016   \n",
       "4                0.01  2016-01-03           1             3       2016   \n",
       "\n",
       "  Station.City Station.Code Station.Location Station.State  \\\n",
       "0   Birmingham          BHM   Birmingham, AL       Alabama   \n",
       "1   Huntsville          HSV   Huntsville, AL       Alabama   \n",
       "2       Mobile          MOB       Mobile, AL       Alabama   \n",
       "3   Montgomery          MGM   Montgomery, AL       Alabama   \n",
       "4    Anchorage          ANC    Anchorage, AK        Alaska   \n",
       "\n",
       "   Data.Temperature.Avg Temp  Data.Temperature.Max Temp  \\\n",
       "0                         39                         46   \n",
       "1                         39                         47   \n",
       "2                         46                         51   \n",
       "3                         45                         52   \n",
       "4                         34                         38   \n",
       "\n",
       "   Data.Temperature.Min Temp  Data.Wind.Direction  Data.Wind.Speed  \n",
       "0                         32                   33             4.33  \n",
       "1                         31                   32             3.86  \n",
       "2                         41                   35             9.73  \n",
       "3                         38                   32             6.86  \n",
       "4                         29                   19              7.8  "
      ]
     },
     "execution_count": 5,
     "metadata": {},
     "output_type": "execute_result"
    }
   ],
   "source": [
    "wd.head()"
   ]
  },
  {
   "cell_type": "code",
   "execution_count": 6,
   "metadata": {},
   "outputs": [
    {
     "data": {
      "text/html": [
       "<div>\n",
       "<style scoped>\n",
       "    .dataframe tbody tr th:only-of-type {\n",
       "        vertical-align: middle;\n",
       "    }\n",
       "\n",
       "    .dataframe tbody tr th {\n",
       "        vertical-align: top;\n",
       "    }\n",
       "\n",
       "    .dataframe thead th {\n",
       "        text-align: right;\n",
       "    }\n",
       "</style>\n",
       "<table border=\"1\" class=\"dataframe\">\n",
       "  <thead>\n",
       "    <tr style=\"text-align: right;\">\n",
       "      <th></th>\n",
       "      <th>Data.Precipitation</th>\n",
       "      <th>Date.Full</th>\n",
       "      <th>Date.Month</th>\n",
       "      <th>Date.Week of</th>\n",
       "      <th>Date.Year</th>\n",
       "      <th>Station.City</th>\n",
       "      <th>Station.Code</th>\n",
       "      <th>Station.Location</th>\n",
       "      <th>Station.State</th>\n",
       "      <th>Data.Temperature.Avg Temp</th>\n",
       "      <th>Data.Temperature.Max Temp</th>\n",
       "      <th>Data.Temperature.Min Temp</th>\n",
       "      <th>Data.Wind.Direction</th>\n",
       "      <th>Data.Wind.Speed</th>\n",
       "    </tr>\n",
       "  </thead>\n",
       "  <tbody>\n",
       "    <tr>\n",
       "      <th>16738</th>\n",
       "      <td>0.08</td>\n",
       "      <td>2017-01-01</td>\n",
       "      <td>1</td>\n",
       "      <td>1</td>\n",
       "      <td>2017</td>\n",
       "      <td>Casper</td>\n",
       "      <td>CPR</td>\n",
       "      <td>Casper, WY</td>\n",
       "      <td>Wyoming</td>\n",
       "      <td>23</td>\n",
       "      <td>32</td>\n",
       "      <td>15</td>\n",
       "      <td>23</td>\n",
       "      <td>19.98</td>\n",
       "    </tr>\n",
       "    <tr>\n",
       "      <th>16739</th>\n",
       "      <td>0.0</td>\n",
       "      <td>2017-01-01</td>\n",
       "      <td>1</td>\n",
       "      <td>1</td>\n",
       "      <td>2017</td>\n",
       "      <td>Cheyenne</td>\n",
       "      <td>CYS</td>\n",
       "      <td>Cheyenne, WY</td>\n",
       "      <td>Wyoming</td>\n",
       "      <td>32</td>\n",
       "      <td>42</td>\n",
       "      <td>21</td>\n",
       "      <td>26</td>\n",
       "      <td>15.16</td>\n",
       "    </tr>\n",
       "    <tr>\n",
       "      <th>16740</th>\n",
       "      <td>0.0</td>\n",
       "      <td>2017-01-01</td>\n",
       "      <td>1</td>\n",
       "      <td>1</td>\n",
       "      <td>2017</td>\n",
       "      <td>Lander</td>\n",
       "      <td>LND</td>\n",
       "      <td>Lander, WY</td>\n",
       "      <td>Wyoming</td>\n",
       "      <td>17</td>\n",
       "      <td>29</td>\n",
       "      <td>4</td>\n",
       "      <td>26</td>\n",
       "      <td>1.65</td>\n",
       "    </tr>\n",
       "    <tr>\n",
       "      <th>16741</th>\n",
       "      <td>0.06</td>\n",
       "      <td>2017-01-01</td>\n",
       "      <td>1</td>\n",
       "      <td>1</td>\n",
       "      <td>2017</td>\n",
       "      <td>Rawlins</td>\n",
       "      <td>RWL</td>\n",
       "      <td>Rawlins, WY</td>\n",
       "      <td>Wyoming</td>\n",
       "      <td>23</td>\n",
       "      <td>31</td>\n",
       "      <td>13</td>\n",
       "      <td>24</td>\n",
       "      <td>18.16</td>\n",
       "    </tr>\n",
       "    <tr>\n",
       "      <th>16742</th>\n",
       "      <td>0.1</td>\n",
       "      <td>2017-01-01</td>\n",
       "      <td>1</td>\n",
       "      <td>1</td>\n",
       "      <td>2017</td>\n",
       "      <td>Sheridan</td>\n",
       "      <td>SHR</td>\n",
       "      <td>Sheridan, WY</td>\n",
       "      <td>Wyoming</td>\n",
       "      <td>21</td>\n",
       "      <td>34</td>\n",
       "      <td>8</td>\n",
       "      <td>23</td>\n",
       "      <td>7.51</td>\n",
       "    </tr>\n",
       "  </tbody>\n",
       "</table>\n",
       "</div>"
      ],
      "text/plain": [
       "       Data.Precipitation   Date.Full  Date.Month  Date.Week of  Date.Year  \\\n",
       "16738                0.08  2017-01-01           1             1       2017   \n",
       "16739                 0.0  2017-01-01           1             1       2017   \n",
       "16740                 0.0  2017-01-01           1             1       2017   \n",
       "16741                0.06  2017-01-01           1             1       2017   \n",
       "16742                 0.1  2017-01-01           1             1       2017   \n",
       "\n",
       "      Station.City Station.Code Station.Location Station.State  \\\n",
       "16738       Casper          CPR       Casper, WY       Wyoming   \n",
       "16739     Cheyenne          CYS     Cheyenne, WY       Wyoming   \n",
       "16740       Lander          LND       Lander, WY       Wyoming   \n",
       "16741      Rawlins          RWL      Rawlins, WY       Wyoming   \n",
       "16742     Sheridan          SHR     Sheridan, WY       Wyoming   \n",
       "\n",
       "       Data.Temperature.Avg Temp  Data.Temperature.Max Temp  \\\n",
       "16738                         23                         32   \n",
       "16739                         32                         42   \n",
       "16740                         17                         29   \n",
       "16741                         23                         31   \n",
       "16742                         21                         34   \n",
       "\n",
       "       Data.Temperature.Min Temp  Data.Wind.Direction  Data.Wind.Speed  \n",
       "16738                         15                   23            19.98  \n",
       "16739                         21                   26            15.16  \n",
       "16740                          4                   26             1.65  \n",
       "16741                         13                   24            18.16  \n",
       "16742                          8                   23             7.51  "
      ]
     },
     "execution_count": 6,
     "metadata": {},
     "output_type": "execute_result"
    }
   ],
   "source": [
    "wd.tail()"
   ]
  },
  {
   "cell_type": "code",
   "execution_count": 12,
   "metadata": {},
   "outputs": [],
   "source": [
    "new_column_names = {\n",
    "    \"Station.City\": \"Station of City\",\n",
    "    \n",
    "}\n",
    "\n",
    "data = wd.rename(columns=new_column_names)"
   ]
  },
  {
   "cell_type": "code",
   "execution_count": 8,
   "metadata": {},
   "outputs": [
    {
     "data": {
      "text/plain": [
       "Index(['Data.Precipitation', 'Date.Full', 'Date.Month', 'Date.Week of',\n",
       "       'Date.Year', 'Station.City', 'Station.Code', 'Station.Location',\n",
       "       'Station.State', 'Data.Temperature.Avg Temp',\n",
       "       'Data.Temperature.Max Temp', 'Data.Temperature.Min Temp',\n",
       "       'Data.Wind.Direction', 'Data.Wind.Speed'],\n",
       "      dtype='object')"
      ]
     },
     "execution_count": 8,
     "metadata": {},
     "output_type": "execute_result"
    }
   ],
   "source": [
    "data.columns"
   ]
  },
  {
   "cell_type": "code",
   "execution_count": 9,
   "metadata": {},
   "outputs": [
    {
     "data": {
      "text/plain": [
       "<bound method DataFrame.info of        Data.Precipitation   Date.Full  Date.Month  Date.Week of  Date.Year  \\\n",
       "0                     0.0  2016-01-03           1             3       2016   \n",
       "1                     0.0  2016-01-03           1             3       2016   \n",
       "2                    0.16  2016-01-03           1             3       2016   \n",
       "3                     0.0  2016-01-03           1             3       2016   \n",
       "4                    0.01  2016-01-03           1             3       2016   \n",
       "...                   ...         ...         ...           ...        ...   \n",
       "16738                0.08  2017-01-01           1             1       2017   \n",
       "16739                 0.0  2017-01-01           1             1       2017   \n",
       "16740                 0.0  2017-01-01           1             1       2017   \n",
       "16741                0.06  2017-01-01           1             1       2017   \n",
       "16742                 0.1  2017-01-01           1             1       2017   \n",
       "\n",
       "      Station.City Station.Code Station.Location Station.State  \\\n",
       "0       Birmingham          BHM   Birmingham, AL       Alabama   \n",
       "1       Huntsville          HSV   Huntsville, AL       Alabama   \n",
       "2           Mobile          MOB       Mobile, AL       Alabama   \n",
       "3       Montgomery          MGM   Montgomery, AL       Alabama   \n",
       "4        Anchorage          ANC    Anchorage, AK        Alaska   \n",
       "...            ...          ...              ...           ...   \n",
       "16738       Casper          CPR       Casper, WY       Wyoming   \n",
       "16739     Cheyenne          CYS     Cheyenne, WY       Wyoming   \n",
       "16740       Lander          LND       Lander, WY       Wyoming   \n",
       "16741      Rawlins          RWL      Rawlins, WY       Wyoming   \n",
       "16742     Sheridan          SHR     Sheridan, WY       Wyoming   \n",
       "\n",
       "       Data.Temperature.Avg Temp  Data.Temperature.Max Temp  \\\n",
       "0                             39                         46   \n",
       "1                             39                         47   \n",
       "2                             46                         51   \n",
       "3                             45                         52   \n",
       "4                             34                         38   \n",
       "...                          ...                        ...   \n",
       "16738                         23                         32   \n",
       "16739                         32                         42   \n",
       "16740                         17                         29   \n",
       "16741                         23                         31   \n",
       "16742                         21                         34   \n",
       "\n",
       "       Data.Temperature.Min Temp  Data.Wind.Direction  Data.Wind.Speed  \n",
       "0                             32                   33             4.33  \n",
       "1                             31                   32             3.86  \n",
       "2                             41                   35             9.73  \n",
       "3                             38                   32             6.86  \n",
       "4                             29                   19              7.8  \n",
       "...                          ...                  ...              ...  \n",
       "16738                         15                   23            19.98  \n",
       "16739                         21                   26            15.16  \n",
       "16740                          4                   26             1.65  \n",
       "16741                         13                   24            18.16  \n",
       "16742                          8                   23             7.51  \n",
       "\n",
       "[16743 rows x 14 columns]>"
      ]
     },
     "execution_count": 9,
     "metadata": {},
     "output_type": "execute_result"
    }
   ],
   "source": [
    "data.info"
   ]
  },
  {
   "cell_type": "code",
   "execution_count": 10,
   "metadata": {},
   "outputs": [
    {
     "name": "stdout",
     "output_type": "stream",
     "text": [
      "<class 'pandas.core.frame.DataFrame'>\n",
      "RangeIndex: 16743 entries, 0 to 16742\n",
      "Data columns (total 14 columns):\n",
      " #   Column                     Non-Null Count  Dtype  \n",
      "---  ------                     --------------  -----  \n",
      " 0   Data.Precipitation         16743 non-null  Float64\n",
      " 1   Date.Full                  16743 non-null  string \n",
      " 2   Date.Month                 16743 non-null  Int64  \n",
      " 3   Date.Week of               16743 non-null  Int64  \n",
      " 4   Date.Year                  16743 non-null  Int64  \n",
      " 5   Station.City               16743 non-null  string \n",
      " 6   Station.Code               16743 non-null  string \n",
      " 7   Station.Location           16743 non-null  string \n",
      " 8   Station.State              16743 non-null  string \n",
      " 9   Data.Temperature.Avg Temp  16743 non-null  Int64  \n",
      " 10  Data.Temperature.Max Temp  16743 non-null  Int64  \n",
      " 11  Data.Temperature.Min Temp  16743 non-null  Int64  \n",
      " 12  Data.Wind.Direction        16743 non-null  Int64  \n",
      " 13  Data.Wind.Speed            16743 non-null  Float64\n",
      "dtypes: Float64(2), Int64(7), string(5)\n",
      "memory usage: 1.9 MB\n"
     ]
    }
   ],
   "source": [
    "wd.info()"
   ]
  },
  {
   "cell_type": "code",
   "execution_count": 13,
   "metadata": {},
   "outputs": [
    {
     "data": {
      "text/html": [
       "<div>\n",
       "<style scoped>\n",
       "    .dataframe tbody tr th:only-of-type {\n",
       "        vertical-align: middle;\n",
       "    }\n",
       "\n",
       "    .dataframe tbody tr th {\n",
       "        vertical-align: top;\n",
       "    }\n",
       "\n",
       "    .dataframe thead th {\n",
       "        text-align: right;\n",
       "    }\n",
       "</style>\n",
       "<table border=\"1\" class=\"dataframe\">\n",
       "  <thead>\n",
       "    <tr style=\"text-align: right;\">\n",
       "      <th></th>\n",
       "      <th>Data.Precipitation</th>\n",
       "      <th>Date.Full</th>\n",
       "      <th>Date.Month</th>\n",
       "      <th>Date.Week of</th>\n",
       "      <th>Date.Year</th>\n",
       "      <th>Station of City</th>\n",
       "      <th>Station.Code</th>\n",
       "      <th>Station.Location</th>\n",
       "      <th>Station.State</th>\n",
       "      <th>Data.Temperature.Avg Temp</th>\n",
       "      <th>Data.Temperature.Max Temp</th>\n",
       "      <th>Data.Temperature.Min Temp</th>\n",
       "      <th>Data.Wind.Direction</th>\n",
       "      <th>Data.Wind.Speed</th>\n",
       "    </tr>\n",
       "  </thead>\n",
       "  <tbody>\n",
       "  </tbody>\n",
       "</table>\n",
       "</div>"
      ],
      "text/plain": [
       "Empty DataFrame\n",
       "Columns: [Data.Precipitation, Date.Full, Date.Month, Date.Week of, Date.Year, Station of City, Station.Code, Station.Location, Station.State, Data.Temperature.Avg Temp, Data.Temperature.Max Temp, Data.Temperature.Min Temp, Data.Wind.Direction, Data.Wind.Speed]\n",
       "Index: []"
      ]
     },
     "execution_count": 13,
     "metadata": {},
     "output_type": "execute_result"
    }
   ],
   "source": [
    "data.loc[data.isna().any(axis=\"columns\")]"
   ]
  },
  {
   "cell_type": "code",
   "execution_count": 14,
   "metadata": {},
   "outputs": [
    {
     "data": {
      "text/html": [
       "<div>\n",
       "<style scoped>\n",
       "    .dataframe tbody tr th:only-of-type {\n",
       "        vertical-align: middle;\n",
       "    }\n",
       "\n",
       "    .dataframe tbody tr th {\n",
       "        vertical-align: top;\n",
       "    }\n",
       "\n",
       "    .dataframe thead th {\n",
       "        text-align: right;\n",
       "    }\n",
       "</style>\n",
       "<table border=\"1\" class=\"dataframe\">\n",
       "  <thead>\n",
       "    <tr style=\"text-align: right;\">\n",
       "      <th></th>\n",
       "      <th>Data.Precipitation</th>\n",
       "      <th>Station.Location</th>\n",
       "      <th>Data.Temperature.Avg Temp</th>\n",
       "      <th>Data.Temperature.Max Temp</th>\n",
       "    </tr>\n",
       "  </thead>\n",
       "  <tbody>\n",
       "    <tr>\n",
       "      <th>0</th>\n",
       "      <td>0.0</td>\n",
       "      <td>Birmingham, AL</td>\n",
       "      <td>39</td>\n",
       "      <td>46</td>\n",
       "    </tr>\n",
       "    <tr>\n",
       "      <th>1</th>\n",
       "      <td>0.0</td>\n",
       "      <td>Huntsville, AL</td>\n",
       "      <td>39</td>\n",
       "      <td>47</td>\n",
       "    </tr>\n",
       "    <tr>\n",
       "      <th>2</th>\n",
       "      <td>0.16</td>\n",
       "      <td>Mobile, AL</td>\n",
       "      <td>46</td>\n",
       "      <td>51</td>\n",
       "    </tr>\n",
       "    <tr>\n",
       "      <th>3</th>\n",
       "      <td>0.0</td>\n",
       "      <td>Montgomery, AL</td>\n",
       "      <td>45</td>\n",
       "      <td>52</td>\n",
       "    </tr>\n",
       "    <tr>\n",
       "      <th>4</th>\n",
       "      <td>0.01</td>\n",
       "      <td>Anchorage, AK</td>\n",
       "      <td>34</td>\n",
       "      <td>38</td>\n",
       "    </tr>\n",
       "  </tbody>\n",
       "</table>\n",
       "</div>"
      ],
      "text/plain": [
       "   Data.Precipitation Station.Location  Data.Temperature.Avg Temp  \\\n",
       "0                 0.0   Birmingham, AL                         39   \n",
       "1                 0.0   Huntsville, AL                         39   \n",
       "2                0.16       Mobile, AL                         46   \n",
       "3                 0.0   Montgomery, AL                         45   \n",
       "4                0.01    Anchorage, AK                         34   \n",
       "\n",
       "   Data.Temperature.Max Temp  \n",
       "0                         46  \n",
       "1                         47  \n",
       "2                         51  \n",
       "3                         52  \n",
       "4                         38  "
      ]
     },
     "execution_count": 14,
     "metadata": {},
     "output_type": "execute_result"
    }
   ],
   "source": [
    "data[\n",
    "    [\"Data.Precipitation\", \"Station.Location\", \"Data.Temperature.Avg Temp\", \"Data.Temperature.Max Temp\"]\n",
    "].head()"
   ]
  },
  {
   "cell_type": "code",
   "execution_count": 15,
   "metadata": {},
   "outputs": [
    {
     "data": {
      "text/html": [
       "<div>\n",
       "<style scoped>\n",
       "    .dataframe tbody tr th:only-of-type {\n",
       "        vertical-align: middle;\n",
       "    }\n",
       "\n",
       "    .dataframe tbody tr th {\n",
       "        vertical-align: top;\n",
       "    }\n",
       "\n",
       "    .dataframe thead th {\n",
       "        text-align: right;\n",
       "    }\n",
       "</style>\n",
       "<table border=\"1\" class=\"dataframe\">\n",
       "  <thead>\n",
       "    <tr style=\"text-align: right;\">\n",
       "      <th></th>\n",
       "      <th>Data.Temperature.Avg Temp</th>\n",
       "      <th>Data.Temperature.Max Temp</th>\n",
       "    </tr>\n",
       "  </thead>\n",
       "  <tbody>\n",
       "    <tr>\n",
       "      <th>count</th>\n",
       "      <td>16743.0</td>\n",
       "      <td>16743.0</td>\n",
       "    </tr>\n",
       "    <tr>\n",
       "      <th>mean</th>\n",
       "      <td>56.089112</td>\n",
       "      <td>66.042406</td>\n",
       "    </tr>\n",
       "    <tr>\n",
       "      <th>std</th>\n",
       "      <td>18.798295</td>\n",
       "      <td>19.787954</td>\n",
       "    </tr>\n",
       "    <tr>\n",
       "      <th>min</th>\n",
       "      <td>-27.0</td>\n",
       "      <td>-19.0</td>\n",
       "    </tr>\n",
       "    <tr>\n",
       "      <th>25%</th>\n",
       "      <td>44.0</td>\n",
       "      <td>53.0</td>\n",
       "    </tr>\n",
       "    <tr>\n",
       "      <th>50%</th>\n",
       "      <td>58.0</td>\n",
       "      <td>68.0</td>\n",
       "    </tr>\n",
       "    <tr>\n",
       "      <th>75%</th>\n",
       "      <td>71.0</td>\n",
       "      <td>82.0</td>\n",
       "    </tr>\n",
       "    <tr>\n",
       "      <th>max</th>\n",
       "      <td>100.0</td>\n",
       "      <td>111.0</td>\n",
       "    </tr>\n",
       "  </tbody>\n",
       "</table>\n",
       "</div>"
      ],
      "text/plain": [
       "       Data.Temperature.Avg Temp  Data.Temperature.Max Temp\n",
       "count                    16743.0                    16743.0\n",
       "mean                   56.089112                  66.042406\n",
       "std                    18.798295                  19.787954\n",
       "min                        -27.0                      -19.0\n",
       "25%                         44.0                       53.0\n",
       "50%                         58.0                       68.0\n",
       "75%                         71.0                       82.0\n",
       "max                        100.0                      111.0"
      ]
     },
     "execution_count": 15,
     "metadata": {},
     "output_type": "execute_result"
    }
   ],
   "source": [
    "data[[ \"Station.Location\", \"Data.Temperature.Avg Temp\", \"Data.Temperature.Max Temp\"]].describe()"
   ]
  },
  {
   "cell_type": "code",
   "execution_count": 16,
   "metadata": {},
   "outputs": [
    {
     "data": {
      "text/html": [
       "<div>\n",
       "<style scoped>\n",
       "    .dataframe tbody tr th:only-of-type {\n",
       "        vertical-align: middle;\n",
       "    }\n",
       "\n",
       "    .dataframe tbody tr th {\n",
       "        vertical-align: top;\n",
       "    }\n",
       "\n",
       "    .dataframe thead th {\n",
       "        text-align: right;\n",
       "    }\n",
       "</style>\n",
       "<table border=\"1\" class=\"dataframe\">\n",
       "  <thead>\n",
       "    <tr style=\"text-align: right;\">\n",
       "      <th></th>\n",
       "      <th>Data.Precipitation</th>\n",
       "      <th>Date.Full</th>\n",
       "      <th>Date.Month</th>\n",
       "      <th>Date.Week of</th>\n",
       "      <th>Date.Year</th>\n",
       "      <th>Station of City</th>\n",
       "      <th>Station.Code</th>\n",
       "      <th>Station.Location</th>\n",
       "      <th>Station.State</th>\n",
       "      <th>Data.Temperature.Avg Temp</th>\n",
       "      <th>Data.Temperature.Max Temp</th>\n",
       "      <th>Data.Temperature.Min Temp</th>\n",
       "      <th>Data.Wind.Direction</th>\n",
       "      <th>Data.Wind.Speed</th>\n",
       "    </tr>\n",
       "  </thead>\n",
       "  <tbody>\n",
       "  </tbody>\n",
       "</table>\n",
       "</div>"
      ],
      "text/plain": [
       "Empty DataFrame\n",
       "Columns: [Data.Precipitation, Date.Full, Date.Month, Date.Week of, Date.Year, Station of City, Station.Code, Station.Location, Station.State, Data.Temperature.Avg Temp, Data.Temperature.Max Temp, Data.Temperature.Min Temp, Data.Wind.Direction, Data.Wind.Speed]\n",
       "Index: []"
      ]
     },
     "execution_count": 16,
     "metadata": {},
     "output_type": "execute_result"
    }
   ],
   "source": [
    "data.loc[data.duplicated(keep=False)]"
   ]
  },
  {
   "cell_type": "code",
   "execution_count": 18,
   "metadata": {},
   "outputs": [],
   "source": [
    "import pandas as pd\n",
    "import matplotlib.pyplot as plt\n",
    "\n",
    "data = pd.read_csv(\"weather.csv\").convert_dtypes()"
   ]
  },
  {
   "cell_type": "code",
   "execution_count": 20,
   "metadata": {},
   "outputs": [
    {
     "name": "stderr",
     "output_type": "stream",
     "text": [
      "C:\\Users\\Shubham\\AppData\\Local\\Temp\\ipykernel_2892\\2817784532.py:6: UserWarning: FigureCanvasAgg is non-interactive, and thus cannot be shown\n",
      "  fig.show()\n"
     ]
    },
    {
     "data": {
      "image/png": "[encoded data removed]",
      "text/plain": [
       "<Figure size 640x480 with 1 Axes>"
      ]
     },
     "metadata": {},
     "output_type": "display_data"
    }
   ],
   "source": [
    "fig, ax = plt.subplots()\n",
    "ax.scatter(data[\"Date.Month\"], data[\"Data.Temperature.Avg Temp\"])\n",
    "ax.set_title(\"Scatter Plot of Ratings\")\n",
    "ax.set_xlabel(\"date\")\n",
    "ax.set_ylabel(\"Average temp Rating\")\n",
    "fig.show()"
   ]
  },
  {
   "cell_type": "code",
   "execution_count": 21,
   "metadata": {},
   "outputs": [
    {
     "name": "stderr",
     "output_type": "stream",
     "text": [
      "C:\\Users\\Shubham\\AppData\\Local\\Temp\\ipykernel_2892\\3176898122.py:9: UserWarning: FigureCanvasAgg is non-interactive, and thus cannot be shown\n",
      "  fig.show()\n"
     ]
    },
    {
     "data": {
      "image/png": "[encoded data removed]",
      "text/plain": [
       "<Figure size 640x480 with 1 Axes>"
      ]
     },
     "metadata": {},
     "output_type": "display_data"
    }
   ],
   "source": [
    "fig, ax = plt.subplots()\n",
    "length = data[\"Data.Temperature.Avg Temp\"].value_counts(bins=16).sort_index()\n",
    "length.plot.bar(\n",
    "    ax=ax,\n",
    "    title=\"Averagr temp distribution\",\n",
    "    xlabel=\"Time Range (mins)\",\n",
    "    ylabel=\"Count\",\n",
    ")\n",
    "fig.show()"
   ]
  },
  {
   "cell_type": "code",
   "execution_count": 24,
   "metadata": {},
   "outputs": [
    {
     "name": "stderr",
     "output_type": "stream",
     "text": [
      "C:\\Users\\Shubham\\AppData\\Local\\Temp\\ipykernel_2892\\1595884744.py:9: UserWarning: FigureCanvasAgg is non-interactive, and thus cannot be shown\n",
      "  fig.show()\n"
     ]
    },
    {
     "data": {
      "image/png": "[encoded data removed]",
      "text/plain": [
       "<Figure size 640x480 with 1 Axes>"
      ]
     },
     "metadata": {},
     "output_type": "display_data"
    }
   ],
   "source": [
    "fig, ax = plt.subplots()\n",
    "length = data[\"Data.Temperature.Avg Temp\"].value_counts(bins=34).sort_index()\n",
    "length.plot.bar(\n",
    "    ax=ax,\n",
    "    title=\"Averagr temp distribution\",\n",
    "    xlabel=\"Time Range (mins)\",\n",
    "    ylabel=\"Count\",\n",
    ")\n",
    "fig.show()"
   ]
  },
  {
   "cell_type": "code",
   "execution_count": 25,
   "metadata": {},
   "outputs": [
    {
     "data": {
      "text/plain": [
       "min     -27.000000\n",
       "max     100.000000\n",
       "mean     56.089112\n",
       "std      18.798295\n",
       "Name: Data.Temperature.Avg Temp, dtype: float64"
      ]
     },
     "execution_count": 25,
     "metadata": {},
     "output_type": "execute_result"
    }
   ],
   "source": [
    "data[\"Data.Temperature.Avg Temp\"].agg([\"min\", \"max\", \"mean\", \"std\"])"
   ]
  }
 ],
 "metadata": {
  "kernelspec": {
   "display_name": "base",
   "language": "python",
   "name": "python3"
  },
  "language_info": {
   "codemirror_mode": {
    "name": "ipython",
    "version": 3
   },
   "file_extension": ".py",
   "mimetype": "text/x-python",
   "name": "python",
   "nbconvert_exporter": "python",
   "pygments_lexer": "ipython3",
   "version": "3.11.7"
  }
 },
 "nbformat": 4,
 "nbformat_minor": 2
}
